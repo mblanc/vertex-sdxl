{
 "cells": [
  {
   "cell_type": "code",
   "execution_count": null,
   "id": "d63e1ec3-e62b-4016-ac86-d1aeb7f305d2",
   "metadata": {},
   "outputs": [],
   "source": [
    "PROJECT_ID = \"[your-project-id]\"  # @param {type:\"string\"}\n",
    "\n",
    "# Set the project id\n",
    "! gcloud config set project {PROJECT_ID}"
   ]
  },
  {
   "cell_type": "code",
   "execution_count": null,
   "id": "1a5c5f2c-b6f7-41c3-8c48-40d1dec76f6f",
   "metadata": {},
   "outputs": [],
   "source": [
    "REGION = \"us-central1\"  # @param {type: \"string\"}"
   ]
  },
  {
   "cell_type": "code",
   "execution_count": null,
   "id": "ed9c9d21-1ca1-4baa-a044-ef246275cc9b",
   "metadata": {},
   "outputs": [],
   "source": [
    "BUCKET=f\"your-bucket-name-{PROJECT_ID}-unique\""
   ]
  },
  {
   "cell_type": "code",
   "execution_count": null,
   "id": "85588f88-ba49-4e9b-9c14-7f2d8b5179a9",
   "metadata": {},
   "outputs": [],
   "source": [
    "TAG=\"sdxl-serve:latest\"\n",
    "REPO=\"vertexai\"\n",
    "SERVE_DOCKER_URI=f\"{REGION}-docker.pkg.dev/{PROJECT_ID}/{REPO}/{TAG}\""
   ]
  },
  {
   "cell_type": "code",
   "execution_count": null,
   "id": "d57ce004-71f5-4ee5-baae-c8b41574e946",
   "metadata": {},
   "outputs": [],
   "source": [
    "!gcloud artifacts repositories create $REPO --repository-format=docker --location=$REGION --description=\"Docker repository\""
   ]
  },
  {
   "cell_type": "code",
   "execution_count": null,
   "id": "0793a375-12fc-44d8-93e7-e189b972a872",
   "metadata": {},
   "outputs": [],
   "source": [
    "# make sure you executed this in a terminal\n",
    "# !gcloud auth configure-docker europe-west4-docker.pkg.dev"
   ]
  },
  {
   "cell_type": "code",
   "execution_count": null,
   "id": "e943f327-a69e-4e22-ab8a-949fd2223137",
   "metadata": {},
   "outputs": [],
   "source": [
    "!docker build -f Dockerfile . -t $TAG"
   ]
  },
  {
   "cell_type": "code",
   "execution_count": null,
   "id": "718bba0f-9b7a-4a2b-ba69-a88b36da5bf6",
   "metadata": {},
   "outputs": [],
   "source": [
    "!docker tag $TAG $SERVE_DOCKER_URI"
   ]
  },
  {
   "cell_type": "code",
   "execution_count": null,
   "id": "6700cd72-518a-443b-b6f3-81163127b031",
   "metadata": {},
   "outputs": [],
   "source": [
    "!docker push $SERVE_DOCKER_URI"
   ]
  },
  {
   "cell_type": "markdown",
   "id": "f7a58109-c8f9-418c-90b6-f024dcf9a461",
   "metadata": {
    "tags": []
   },
   "source": [
    "# Deploy"
   ]
  },
  {
   "cell_type": "code",
   "execution_count": null,
   "id": "7b8810b4-4366-4e33-91e5-99dd9229f3b6",
   "metadata": {},
   "outputs": [],
   "source": [
    "from google.cloud import aiplatform\n",
    "\n",
    "aiplatform.init(project=PROJECT_ID, location=REGION, staging_bucket=f\"gs://{BUCKET}\")"
   ]
  },
  {
   "cell_type": "code",
   "execution_count": null,
   "id": "c320a711-340a-4c2f-87f8-6ed68a8b2ae9",
   "metadata": {},
   "outputs": [],
   "source": [
    "import base64\n",
    "from io import BytesIO\n",
    "\n",
    "from google.cloud import aiplatform\n",
    "from PIL import Image\n",
    "\n",
    "\n",
    "# Convert base64 encoded string to an image.\n",
    "def base64_to_image(image_str):\n",
    "    image = Image.open(BytesIO(base64.b64decode(image_str)))\n",
    "    return image"
   ]
  },
  {
   "cell_type": "code",
   "execution_count": null,
   "id": "f3c2bc04-8d87-4b68-8eeb-442ba8d4b82d",
   "metadata": {},
   "outputs": [],
   "source": [
    "model_name = \"stable-diffusion-xl\"\n",
    "model_id=\"stabilityai/stable-diffusion-xl-base-1.0\"\n",
    "refiner_model_id=\"stabilityai/stable-diffusion-xl-refiner-1.0\"\n",
    "task=\"text-to-image\"\n",
    "endpoint = aiplatform.Endpoint.create(display_name=f\"{model_name}-{task}-endpoint\")\n",
    "serving_env = {\n",
    "    \"MODEL_ID\": model_id,\n",
    "    \"REFINER_MODEL_ID\": refiner_model_id,\n",
    "    \"TASK\": task,\n",
    "}"
   ]
  },
  {
   "cell_type": "code",
   "execution_count": null,
   "id": "288f3539-0167-4261-83c2-5bdb10256267",
   "metadata": {},
   "outputs": [],
   "source": [
    "endpoint = aiplatform.Endpoint.list(filter=f\"display_name=stable-diffusion-xl-text-to-image-endpoint\")[0]"
   ]
  },
  {
   "cell_type": "code",
   "execution_count": null,
   "id": "7f5eb6a8-59d2-4e44-90c3-c20b3c5ddcee",
   "metadata": {},
   "outputs": [],
   "source": [
    "# endpoint.undeploy_all()"
   ]
  },
  {
   "cell_type": "code",
   "execution_count": null,
   "id": "926aeb47-5681-40af-9ad0-d5900d8f48e1",
   "metadata": {},
   "outputs": [],
   "source": [
    "model = aiplatform.Model.list(filter=f\"display_name=stable-diffusion-xl\")[0]"
   ]
  },
  {
   "cell_type": "code",
   "execution_count": null,
   "id": "3dc35bbf-876f-4de2-85f9-a810db4cf79f",
   "metadata": {},
   "outputs": [],
   "source": [
    "# model.delete()"
   ]
  },
  {
   "cell_type": "code",
   "execution_count": null,
   "id": "df0589c9-432e-419f-8cf6-e5c8fbf2bc13",
   "metadata": {},
   "outputs": [],
   "source": [
    "model_name = \"stable-diffusion-xl\"\n",
    "model_id=\"stabilityai/stable-diffusion-xl-base-1.0\"\n",
    "refiner_model_id=\"stabilityai/stable-diffusion-xl-refiner-1.0\"\n",
    "task=\"text-to-image\"\n",
    "serving_env = {\n",
    "        \"MODEL_ID\": model_id,\n",
    "        \"REFINER_MODEL_ID\": refiner_model_id,\n",
    "        \"TASK\": task,\n",
    "    }\n",
    "model = aiplatform.Model.upload(\n",
    "        display_name=model_name,\n",
    "        serving_container_image_uri=SERVE_DOCKER_URI,\n",
    "        serving_container_ports=[7080],\n",
    "        serving_container_predict_route=\"/predictions/diffusers_serving\",\n",
    "        serving_container_health_route=\"/ping\",\n",
    "        serving_container_environment_variables=serving_env,\n",
    "    )"
   ]
  },
  {
   "cell_type": "code",
   "execution_count": null,
   "id": "c8d9ac21-5f8e-413c-b9b0-9edfa9f5a1be",
   "metadata": {},
   "outputs": [],
   "source": [
    "%%time\n",
    "\n",
    "model.deploy(\n",
    "    endpoint=endpoint,\n",
    "    machine_type=\"g2-standard-4\", # \"a2-highgpu-1g\" # \"g2-standard-4\" # \"a2-ultragpu-1g\"  \n",
    "    accelerator_type=\"NVIDIA_L4\", # \"NVIDIA_TESLA_A100\" # \"NVIDIA_L4\" # \"NVIDIA_A100_80GB\" \n",
    "    accelerator_count=1,\n",
    "    deploy_request_timeout=1800,\n",
    ")"
   ]
  },
  {
   "cell_type": "code",
   "execution_count": null,
   "id": "ff8a9460-fe14-4c56-914b-48990d647fe7",
   "metadata": {},
   "outputs": [],
   "source": [
    "%%time\n",
    "\n",
    "instances = [\n",
    "    {\"prompt\": \"An astronaut riding a horse on Mars, 4k photo\", \"negative_prompt\":\"\", \"height\": 768, \"width\": 768, \"demoising_end\":0.8, \"seed\": 613},\n",
    "]\n",
    "response = endpoint.predict(instances=instances)\n",
    "images = [base64_to_image(image) for image in response.predictions]\n",
    "images[0]"
   ]
  },
  {
   "cell_type": "code",
   "execution_count": null,
   "id": "be698737-20e1-4b4b-8201-2966f2de0c20",
   "metadata": {},
   "outputs": [],
   "source": []
  }
 ],
 "metadata": {
  "environment": {
   "kernel": "conda-root-py",
   "name": "workbench-notebooks.m110",
   "type": "gcloud",
   "uri": "gcr.io/deeplearning-platform-release/workbench-notebooks:m110"
  },
  "kernelspec": {
   "display_name": "Python 3",
   "language": "python",
   "name": "conda-root-py"
  },
  "language_info": {
   "codemirror_mode": {
    "name": "ipython",
    "version": 3
   },
   "file_extension": ".py",
   "mimetype": "text/x-python",
   "name": "python",
   "nbconvert_exporter": "python",
   "pygments_lexer": "ipython3",
   "version": "3.10.12"
  }
 },
 "nbformat": 4,
 "nbformat_minor": 5
}
