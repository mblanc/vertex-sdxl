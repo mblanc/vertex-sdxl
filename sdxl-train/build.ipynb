{
 "cells": [
  {
   "cell_type": "markdown",
   "id": "f2a5ebb7-c403-4307-aa67-ac32c677d404",
   "metadata": {
    "tags": []
   },
   "source": [
    "# Training in Notebook"
   ]
  },
  {
   "cell_type": "code",
   "execution_count": null,
   "id": "380a5b53-c879-4386-882c-de0fb6b70897",
   "metadata": {},
   "outputs": [],
   "source": [
    "!pip install -U git+https://github.com/huggingface/diffusers@main"
   ]
  },
  {
   "cell_type": "code",
   "execution_count": null,
   "id": "fbb67630-f1d6-4e3a-a4c3-330dc0ad1efc",
   "metadata": {},
   "outputs": [],
   "source": [
    "!wget https://raw.githubusercontent.com/huggingface/diffusers/main/examples/dreambooth/train_dreambooth_lora_sdxl.py"
   ]
  },
  {
   "cell_type": "code",
   "execution_count": null,
   "id": "d3638377-ba52-4ba2-b263-a6919d365a42",
   "metadata": {},
   "outputs": [],
   "source": [
    "import diffusers\n",
    "print(diffusers.__version__)"
   ]
  },
  {
   "cell_type": "code",
   "execution_count": null,
   "id": "f585b6dc-ff9a-401a-b4b1-055277bff00e",
   "metadata": {},
   "outputs": [],
   "source": [
    "from huggingface_hub import snapshot_download\n",
    "\n",
    "local_dir = \"./dog\"\n",
    "snapshot_download(\n",
    "    \"diffusers/dog-example\",\n",
    "    local_dir=local_dir, repo_type=\"dataset\",\n",
    "    ignore_patterns=\".gitattributes\",\n",
    ")"
   ]
  },
  {
   "cell_type": "code",
   "execution_count": null,
   "id": "02eeaf3f-285f-4e11-a20e-fec14c1dc97f",
   "metadata": {},
   "outputs": [],
   "source": [
    "import glob\n",
    "from PIL import Image\n",
    "from diffusers.utils import make_image_grid \n",
    "import numpy as np\n",
    "\n",
    "images = []\n",
    "for f in glob.iglob(\"./dog/*\"):\n",
    "    images.append(Image.open(f).resize((256, 256)))\n",
    "\n",
    "make_image_grid(images, 1, 5)"
   ]
  },
  {
   "cell_type": "code",
   "execution_count": null,
   "id": "5dbc91fe-a2ee-4d02-84a5-3ee95f411aee",
   "metadata": {},
   "outputs": [],
   "source": [
    "from accelerate.utils import write_basic_config\n",
    "write_basic_config()"
   ]
  },
  {
   "cell_type": "code",
   "execution_count": null,
   "id": "f832e603-7984-4591-9d20-d3a62335bdff",
   "metadata": {},
   "outputs": [],
   "source": [
    "%%bash\n",
    "\n",
    "export MODEL_NAME=\"stabilityai/stable-diffusion-xl-base-1.0\"\n",
    "export INSTANCE_DIR=\"dog\"\n",
    "export OUTPUT_DIR=\"lora-dog\"\n",
    "export VAE_PATH=\"madebyollin/sdxl-vae-fp16-fix\"\n",
    "\n",
    "accelerate launch train_dreambooth_lora_sdxl.py \\\n",
    "  --pretrained_model_name_or_path=$MODEL_NAME  \\\n",
    "  --pretrained_vae_model_name_or_path=$VAE_PATH \\\n",
    "  --instance_data_dir=$INSTANCE_DIR \\\n",
    "  --output_dir=$OUTPUT_DIR \\\n",
    "  --mixed_precision=\"fp16\" \\\n",
    "  --instance_prompt=\"a photo of a sks dog bottle\" \\\n",
    "  --resolution=1024 \\\n",
    "  --train_batch_size=2 \\\n",
    "  --gradient_accumulation_steps=2   \\\n",
    "  --gradient_checkpointing   \\\n",
    "  --learning_rate=1e-4 \\\n",
    "  --lr_scheduler=\"constant\" \\\n",
    "  --lr_warmup_steps=0 \\\n",
    "  --max_train_steps=500 \\\n",
    "  --checkpointing_steps=717   \\\n",
    "  --seed=\"0\""
   ]
  },
  {
   "cell_type": "code",
   "execution_count": null,
   "id": "daffe809-8ebf-4eb0-90b7-f5cf535b8958",
   "metadata": {},
   "outputs": [],
   "source": [
    "from diffusers import StableDiffusionXLPipeline, AutoencoderKL, DiffusionPipeline\n",
    "import torch\n",
    "\n",
    "vae = AutoencoderKL.from_pretrained(\"madebyollin/sdxl-vae-fp16-fix\", torch_dtype=torch.float16)\n",
    "pipe = DiffusionPipeline.from_pretrained(\n",
    "    \"stabilityai/stable-diffusion-xl-base-1.0\",\n",
    "    vae=vae, torch_dtype=torch.float16, variant=\"fp16\",\n",
    "    use_safetensors=True\n",
    ")\n",
    "# \n",
    "_ = pipe.to(\"cuda\")"
   ]
  },
  {
   "cell_type": "code",
   "execution_count": null,
   "id": "d1ce363a-8283-46cf-8455-b5ac44a0b3f0",
   "metadata": {},
   "outputs": [],
   "source": [
    "prompt = \"An sks dog in a bucket\"\n",
    "\n",
    "image = pipe(\n",
    "    prompt=prompt, \n",
    "    num_inference_steps=25).images[0]\n",
    "image"
   ]
  },
  {
   "cell_type": "code",
   "execution_count": null,
   "id": "a29e563a-26b9-4486-ad2e-4b93fd558ae0",
   "metadata": {},
   "outputs": [],
   "source": [
    "pipe.load_lora_weights(\".\", weight_name=\"./lora-dog/pytorch_lora_weights.safetensors\")"
   ]
  },
  {
   "cell_type": "code",
   "execution_count": null,
   "id": "e0bf05b7-696c-4461-9361-dd81f290caf8",
   "metadata": {},
   "outputs": [],
   "source": [
    "prompt = \"An sks dog in a bucket\"\n",
    "\n",
    "image = pipe(\n",
    "    prompt=prompt, \n",
    "    num_inference_steps=25).images[0]\n",
    "image"
   ]
  },
  {
   "cell_type": "markdown",
   "id": "02397c3a-f4f2-43d7-a438-f51c4338336e",
   "metadata": {
    "tags": []
   },
   "source": [
    "# Build container"
   ]
  },
  {
   "cell_type": "code",
   "execution_count": null,
   "id": "d63e1ec3-e62b-4016-ac86-d1aeb7f305d2",
   "metadata": {},
   "outputs": [],
   "source": [
    "PROJECT_ID = \"[your-project-id]\"  # @param {type:\"string\"}\n",
    "\n",
    "# Set the project id\n",
    "! gcloud config set project {PROJECT_ID}"
   ]
  },
  {
   "cell_type": "code",
   "execution_count": null,
   "id": "1a5c5f2c-b6f7-41c3-8c48-40d1dec76f6f",
   "metadata": {},
   "outputs": [],
   "source": [
    "REGION = \"us-central1\"  # @param {type: \"string\"}"
   ]
  },
  {
   "cell_type": "code",
   "execution_count": null,
   "id": "ed9c9d21-1ca1-4baa-a044-ef246275cc9b",
   "metadata": {},
   "outputs": [],
   "source": [
    "BUCKET=f\"your-bucket-name-{PROJECT_ID}-unique\""
   ]
  },
  {
   "cell_type": "code",
   "execution_count": null,
   "id": "670a1bfc-dfe2-40a6-81a1-bb0f00ae8dda",
   "metadata": {},
   "outputs": [],
   "source": [
    "TAG=\"sdxl-train:latest\"\n",
    "\n",
    "REPO=\"vertexai\"\n",
    "\n",
    "TRAIN_DOCKER_URI=f\"{REGION}-docker.pkg.dev/{PROJECT_ID}/{REPO}/{TAG}\""
   ]
  },
  {
   "cell_type": "code",
   "execution_count": null,
   "id": "d57ce004-71f5-4ee5-baae-c8b41574e946",
   "metadata": {},
   "outputs": [],
   "source": [
    "!gcloud artifacts repositories create $REPO --repository-format=docker --location=europe-west4 --description=\"Docker repository\""
   ]
  },
  {
   "cell_type": "code",
   "execution_count": null,
   "id": "0793a375-12fc-44d8-93e7-e189b972a872",
   "metadata": {},
   "outputs": [],
   "source": [
    "# make sure you executed this in a terminal\n",
    "# !gcloud auth configure-docker $REGION-docker.pkg.dev"
   ]
  },
  {
   "cell_type": "code",
   "execution_count": null,
   "id": "e943f327-a69e-4e22-ab8a-949fd2223137",
   "metadata": {},
   "outputs": [],
   "source": [
    "!docker build -f Dockerfile . -t $TAG"
   ]
  },
  {
   "cell_type": "code",
   "execution_count": null,
   "id": "718bba0f-9b7a-4a2b-ba69-a88b36da5bf6",
   "metadata": {},
   "outputs": [],
   "source": [
    "!docker tag $TAG $TRAIN_DOCKER_URI"
   ]
  },
  {
   "cell_type": "code",
   "execution_count": null,
   "id": "6700cd72-518a-443b-b6f3-81163127b031",
   "metadata": {},
   "outputs": [],
   "source": [
    "!docker push $TRAIN_DOCKER_URI"
   ]
  },
  {
   "cell_type": "markdown",
   "id": "5f144a2e-d0a7-4322-8cd2-37c7dcc7990a",
   "metadata": {
    "tags": []
   },
   "source": [
    "# Training Vertex"
   ]
  },
  {
   "cell_type": "code",
   "execution_count": null,
   "id": "781c88c6-81a1-472b-88d2-531095c94ee0",
   "metadata": {},
   "outputs": [],
   "source": [
    "from google.cloud import aiplatform\n",
    "\n",
    "aiplatform.init(project=PROJECT_ID, location=REGION, staging_bucket=f\"gs://{BUCKET}\")"
   ]
  },
  {
   "cell_type": "code",
   "execution_count": null,
   "id": "73a201f3-8254-4cf3-acc3-3c804c5187fa",
   "metadata": {},
   "outputs": [],
   "source": [
    "import base64\n",
    "import glob\n",
    "import os\n",
    "from datetime import datetime\n",
    "from io import BytesIO\n",
    "\n",
    "import requests\n",
    "from google.cloud import aiplatform, storage\n",
    "from PIL import Image\n",
    "\n",
    "def create_job_name(prefix):\n",
    "    user = os.environ.get(\"USER\")\n",
    "    now = datetime.now().strftime(\"%Y%m%d_%H%M%S\")\n",
    "    job_name = f\"{prefix}-{user}-{now}\"\n",
    "    return job_name\n",
    "\n",
    "\n",
    "def get_bucket_and_blob_name(filepath):\n",
    "    # The gcs path is of the form gs://<bucket-name>/<blob-name>\n",
    "    gs_suffix = filepath.split(\"gs://\", 1)[1]\n",
    "    return tuple(gs_suffix.split(\"/\", 1))\n",
    "\n",
    "\n",
    "def upload_local_dir_to_gcs(local_dir_path, gcs_dir_path):\n",
    "    \"\"\"Uploads files in a local directory to a GCS directory.\"\"\"\n",
    "    client = storage.Client()\n",
    "    bucket_name = gcs_dir_path.split(\"/\")[2]\n",
    "    bucket = client.get_bucket(bucket_name)\n",
    "    for local_file in glob.glob(local_dir_path + \"/**\"):\n",
    "        if not os.path.isfile(local_file):\n",
    "            continue\n",
    "        filename = local_file[1 + len(local_dir_path) :]\n",
    "        gcs_file_path = os.path.join(gcs_dir_path, filename)\n",
    "        _, blob_name = get_bucket_and_blob_name(gcs_file_path)\n",
    "        blob = bucket.blob(blob_name)\n",
    "        blob.upload_from_filename(local_file)\n",
    "        print(\"Copied {} to {}.\".format(local_file, gcs_file_path))"
   ]
  },
  {
   "cell_type": "code",
   "execution_count": null,
   "id": "e2baf8a8-5dab-41d6-b4c1-030a7d019c2c",
   "metadata": {},
   "outputs": [],
   "source": [
    "upload_local_dir_to_gcs(\"datasets/dog\", f\"gs://{BUCKET}/dreambooth/dog\")"
   ]
  },
  {
   "cell_type": "code",
   "execution_count": null,
   "id": "36c4f1b6-f00a-4545-b040-c184e8569f72",
   "metadata": {},
   "outputs": [],
   "source": [
    "# The pre-trained model to be loaded.\n",
    "model_id = \"stabilityai/stable-diffusion-xl-base-1.0\"\n",
    "\n",
    "# Input and output path.\n",
    "instance_dir = f\"/gcs/{BUCKET}/dreambooth/dof\"\n",
    "output_dir = f\"/gcs/{BUCKET}/dreambooth/output/dog-lora\"\n",
    "\n",
    "# Worker pool spec.\n",
    "machine_type = \"n1-standard-4\" # \"a2-highgpu-1g\" # \"g2-standard-4\" # \"a2-ultragpu-1g\"  \n",
    "num_nodes = 1\n",
    "gpu_type =  \"NVIDIA_TESLA_V100\" # \"NVIDIA_TESLA_A100\" # \"NVIDIA_L4\" # \"NVIDIA_A100_80GB\" \n",
    "num_gpus = 1\n",
    "\n",
    "# Setup training job.\n",
    "job_name = create_job_name(\"dreambooth-stable-diffusion\")\n",
    "job = aiplatform.CustomContainerTrainingJob(\n",
    "    display_name=job_name,\n",
    "    container_uri=TRAIN_DOCKER_URI,\n",
    ")\n",
    "\n",
    "# Pass training arguments and launch job.\n",
    "# See https://github.com/huggingface/diffusers/blob/v0.14.0/examples/dreambooth/train_dreambooth.py#L75\n",
    "# for a full list of training arguments.\n",
    "model = job.run(\n",
    "    args=[\n",
    "        \"dreambooth/train_dreambooth_lora_sdxl.py\",\n",
    "        f\"--pretrained_model_name_or_path={model_id}\",\n",
    "        # \"--train_text_encoder\",\n",
    "        f\"--instance_data_dir={instance_dir}\",\n",
    "        f\"--output_dir={output_dir}\",\n",
    "        \"--mixed_precision='fp16'\",\n",
    "        \"--instance_prompt='a person wearing a googlecloud42 t-shirt'\",\n",
    "        \"--resolution=1024\",\n",
    "        \"--train_batch_size=2\",\n",
    "        \"--gradient_accumulation_steps=2\",\n",
    "        \"--gradient_checkpointing\",\n",
    "        \"--learning_rate=1e-4\",\n",
    "        \"--lr_scheduler=constant\",\n",
    "        \"--lr_warmup_steps=0\",\n",
    "        \"--max_train_steps=500\",\n",
    "        \"--checkpointing_steps=717\",\n",
    "        \"--enable_xformers_memory_efficient_attention\",\n",
    "        # \"--use_8bit_adam\",\n",
    "        \"--seed='0'\",\n",
    "    ],\n",
    "    replica_count=num_nodes,\n",
    "    machine_type=machine_type,\n",
    "    accelerator_type=gpu_type,\n",
    "    accelerator_count=num_gpus,\n",
    "    sync=False\n",
    ")"
   ]
  }
 ],
 "metadata": {
  "environment": {
   "kernel": "conda-root-py",
   "name": "workbench-notebooks.m110",
   "type": "gcloud",
   "uri": "gcr.io/deeplearning-platform-release/workbench-notebooks:m110"
  },
  "kernelspec": {
   "display_name": "Python 3",
   "language": "python",
   "name": "conda-root-py"
  },
  "language_info": {
   "codemirror_mode": {
    "name": "ipython",
    "version": 3
   },
   "file_extension": ".py",
   "mimetype": "text/x-python",
   "name": "python",
   "nbconvert_exporter": "python",
   "pygments_lexer": "ipython3",
   "version": "3.10.12"
  }
 },
 "nbformat": 4,
 "nbformat_minor": 5
}
